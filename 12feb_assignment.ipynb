{
 "cells": [
  {
   "cell_type": "markdown",
   "id": "17a3da70-a00c-4197-990b-1760883c7703",
   "metadata": {},
   "source": [
    "Q1 Answer :\n",
    " \n",
    "1. an exception is a condition that interrupts the normal flow of the program.\n",
    "2. An error is an issue in a program that prevents the program from completing its task."
   ]
  },
  {
   "cell_type": "markdown",
   "id": "e85be56f-331c-41cf-adac-498cc7f9d86c",
   "metadata": {},
   "source": [
    "Q2 Answer :\n",
    "    \n",
    "If an exception occurs during execution of the try clause, the exception may be handled by an except clause. If the exception is not handled by an except clause, the exception is re-raised after the finally clause has been executed."
   ]
  },
  {
   "cell_type": "code",
   "execution_count": 1,
   "id": "7058c232-3749-435d-abc1-45347b592863",
   "metadata": {},
   "outputs": [
    {
     "name": "stdout",
     "output_type": "stream",
     "text": [
      "exception not handled\n"
     ]
    },
    {
     "ename": "FileNotFoundError",
     "evalue": "[Errno 2] No such file or directory: 'bc.txt'",
     "output_type": "error",
     "traceback": [
      "\u001b[0;31m---------------------------------------------------------------------------\u001b[0m",
      "\u001b[0;31mFileNotFoundError\u001b[0m                         Traceback (most recent call last)",
      "Cell \u001b[0;32mIn[1], line 3\u001b[0m\n\u001b[1;32m      1\u001b[0m \u001b[38;5;66;03m##example\u001b[39;00m\n\u001b[1;32m      2\u001b[0m \u001b[38;5;28;01mtry\u001b[39;00m :\n\u001b[0;32m----> 3\u001b[0m     f \u001b[38;5;241m=\u001b[39m \u001b[38;5;28;43mopen\u001b[39;49m\u001b[43m(\u001b[49m\u001b[38;5;124;43m\"\u001b[39;49m\u001b[38;5;124;43mbc.txt\u001b[39;49m\u001b[38;5;124;43m\"\u001b[39;49m\u001b[43m,\u001b[49m\u001b[38;5;124;43m\"\u001b[39;49m\u001b[38;5;124;43mr\u001b[39;49m\u001b[38;5;124;43m\"\u001b[39;49m\u001b[43m)\u001b[49m\n\u001b[1;32m      4\u001b[0m     f\u001b[38;5;241m.\u001b[39mwrite(\u001b[38;5;124m\"\u001b[39m\u001b[38;5;124mwrite something\u001b[39m\u001b[38;5;124m\"\u001b[39m)\n\u001b[1;32m      5\u001b[0m \u001b[38;5;28;01mfinally\u001b[39;00m :\n",
      "File \u001b[0;32m/opt/conda/lib/python3.10/site-packages/IPython/core/interactiveshell.py:282\u001b[0m, in \u001b[0;36m_modified_open\u001b[0;34m(file, *args, **kwargs)\u001b[0m\n\u001b[1;32m    275\u001b[0m \u001b[38;5;28;01mif\u001b[39;00m file \u001b[38;5;129;01min\u001b[39;00m {\u001b[38;5;241m0\u001b[39m, \u001b[38;5;241m1\u001b[39m, \u001b[38;5;241m2\u001b[39m}:\n\u001b[1;32m    276\u001b[0m     \u001b[38;5;28;01mraise\u001b[39;00m \u001b[38;5;167;01mValueError\u001b[39;00m(\n\u001b[1;32m    277\u001b[0m         \u001b[38;5;124mf\u001b[39m\u001b[38;5;124m\"\u001b[39m\u001b[38;5;124mIPython won\u001b[39m\u001b[38;5;124m'\u001b[39m\u001b[38;5;124mt let you open fd=\u001b[39m\u001b[38;5;132;01m{\u001b[39;00mfile\u001b[38;5;132;01m}\u001b[39;00m\u001b[38;5;124m by default \u001b[39m\u001b[38;5;124m\"\u001b[39m\n\u001b[1;32m    278\u001b[0m         \u001b[38;5;124m\"\u001b[39m\u001b[38;5;124mas it is likely to crash IPython. If you know what you are doing, \u001b[39m\u001b[38;5;124m\"\u001b[39m\n\u001b[1;32m    279\u001b[0m         \u001b[38;5;124m\"\u001b[39m\u001b[38;5;124myou can use builtins\u001b[39m\u001b[38;5;124m'\u001b[39m\u001b[38;5;124m open.\u001b[39m\u001b[38;5;124m\"\u001b[39m\n\u001b[1;32m    280\u001b[0m     )\n\u001b[0;32m--> 282\u001b[0m \u001b[38;5;28;01mreturn\u001b[39;00m \u001b[43mio_open\u001b[49m\u001b[43m(\u001b[49m\u001b[43mfile\u001b[49m\u001b[43m,\u001b[49m\u001b[43m \u001b[49m\u001b[38;5;241;43m*\u001b[39;49m\u001b[43margs\u001b[49m\u001b[43m,\u001b[49m\u001b[43m \u001b[49m\u001b[38;5;241;43m*\u001b[39;49m\u001b[38;5;241;43m*\u001b[39;49m\u001b[43mkwargs\u001b[49m\u001b[43m)\u001b[49m\n",
      "\u001b[0;31mFileNotFoundError\u001b[0m: [Errno 2] No such file or directory: 'bc.txt'"
     ]
    }
   ],
   "source": [
    "##example\n",
    "try :\n",
    "    f = open(\"bc.txt\",\"r\")\n",
    "    f.write(\"write something\")\n",
    "finally :\n",
    "    print(\"exception not handled\")"
   ]
  },
  {
   "cell_type": "code",
   "execution_count": 2,
   "id": "7aac0259-d4bb-41a1-9384-d34356e6e224",
   "metadata": {},
   "outputs": [
    {
     "name": "stdout",
     "output_type": "stream",
     "text": [
      "this is my except block [Errno 2] No such file or directory: 'ab.txt'\n",
      "exception\n"
     ]
    }
   ],
   "source": [
    "##Q4 answer\n",
    "\n",
    "try :\n",
    "    f = open(\"ab.txt\",\"r\")\n",
    "    f.write(\"write into my file\")\n",
    "except Exception as e :\n",
    "    print(\"this is my except block\",e)\n",
    "else :\n",
    "    f.close()\n",
    "    print(\"this will be excecuted once your try will execute without error\")\n",
    "finally :\n",
    "    print(\"exception\")"
   ]
  },
  {
   "cell_type": "markdown",
   "id": "155a64cf-36d6-447d-a0a6-7956431ed7d5",
   "metadata": {},
   "source": [
    "Q5 Answer :\n",
    "    \n",
    "If there is no rule defined in python directory to handle exception we have to define exception by ourself this is known as custon exception."
   ]
  },
  {
   "cell_type": "code",
   "execution_count": 3,
   "id": "cb9a91b8-c8b2-4b62-a4b0-7258674fdace",
   "metadata": {},
   "outputs": [
    {
     "name": "stdin",
     "output_type": "stream",
     "text": [
      "Enter your age :  55\n"
     ]
    }
   ],
   "source": [
    "##example\n",
    "\n",
    "age = int(input(\"Enter your age : \"))"
   ]
  },
  {
   "cell_type": "code",
   "execution_count": 4,
   "id": "86374fab-0794-4735-8b13-28e3f298ae39",
   "metadata": {},
   "outputs": [],
   "source": [
    "class valid_date(Exception):\n",
    "    \n",
    "    def __init__(self,msg) :\n",
    "        self.msg = msg"
   ]
  },
  {
   "cell_type": "code",
   "execution_count": 5,
   "id": "0c1b8da8-a468-460e-94fb-d8dc795ec149",
   "metadata": {},
   "outputs": [],
   "source": [
    "def validate_age(age):\n",
    "    if age < 0 :\n",
    "        raise valid_date(\"entered age is negative\")\n",
    "    elif age > 200 :\n",
    "        raise valid_date(\"entered age is very very high\")\n",
    "    else :\n",
    "        print(\"Valid age\")"
   ]
  },
  {
   "cell_type": "code",
   "execution_count": 6,
   "id": "bc87e0d4-36ae-41ee-b65e-8fa6d129f8e0",
   "metadata": {},
   "outputs": [
    {
     "name": "stdin",
     "output_type": "stream",
     "text": [
      "Enter your age :  55\n"
     ]
    },
    {
     "name": "stdout",
     "output_type": "stream",
     "text": [
      "Valid age\n"
     ]
    }
   ],
   "source": [
    "try :\n",
    "    age = int(input(\"Enter your age : \"))\n",
    "    validate_age(age)\n",
    "except valid_date as e :\n",
    "    print(e)"
   ]
  },
  {
   "cell_type": "markdown",
   "id": "ce2fb3d9-77b6-4c4b-98ff-b72619f95722",
   "metadata": {},
   "source": [
    "Q6 Answer :\n",
    "\n",
    "refer code of Q5 as answer "
   ]
  },
  {
   "cell_type": "code",
   "execution_count": null,
   "id": "b9b822ef-b0bb-4429-af24-e717bd0aa2dc",
   "metadata": {},
   "outputs": [],
   "source": []
  }
 ],
 "metadata": {
  "kernelspec": {
   "display_name": "Python 3 (ipykernel)",
   "language": "python",
   "name": "python3"
  },
  "language_info": {
   "codemirror_mode": {
    "name": "ipython",
    "version": 3
   },
   "file_extension": ".py",
   "mimetype": "text/x-python",
   "name": "python",
   "nbconvert_exporter": "python",
   "pygments_lexer": "ipython3",
   "version": "3.10.8"
  }
 },
 "nbformat": 4,
 "nbformat_minor": 5
}
